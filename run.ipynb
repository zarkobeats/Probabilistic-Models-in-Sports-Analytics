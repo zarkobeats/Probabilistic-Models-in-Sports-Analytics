{
 "cells": [
  {
   "cell_type": "markdown",
   "id": "62c85810",
   "metadata": {},
   "source": [
    "### Imports"
   ]
  },
  {
   "cell_type": "code",
   "execution_count": 77,
   "id": "bc890d32",
   "metadata": {},
   "outputs": [],
   "source": [
    "import os\n",
    "import pandas as pd\n",
    "import numpy as np\n",
    "from functools import reduce\n"
   ]
  },
  {
   "cell_type": "code",
   "execution_count": 78,
   "id": "89f6eb88",
   "metadata": {},
   "outputs": [],
   "source": [
    "data_dir = \"base_data\"\n",
    "new_data_dir = \"new_data\""
   ]
  },
  {
   "cell_type": "code",
   "execution_count": 79,
   "id": "cff926a4",
   "metadata": {},
   "outputs": [],
   "source": [
    "columns_to_keep_teams = {\n",
    "    'teamRoster.csv': ['teamId', 'teamName'],\n",
    "    'standings.csv': ['teamId', 'form', 'teamRank', 'teamId','gamesPlayed','wins', 'ties', 'losses', 'points','gf','ga','gd'],\n",
    "}"
   ]
  },
  {
   "cell_type": "code",
   "execution_count": 80,
   "id": "a3285389",
   "metadata": {},
   "outputs": [],
   "source": [
    "dfs_teams = []\n",
    "\n",
    "for filename, columns in columns_to_keep_teams.items():\n",
    "    path = os.path.join(data_dir, filename)\n",
    "    df = pd.read_csv(path, usecols=columns)\n",
    "    dfs_teams.append(df)\n",
    "   "
   ]
  },
  {
   "cell_type": "code",
   "execution_count": 81,
   "id": "8b9499ac",
   "metadata": {},
   "outputs": [],
   "source": [
    "columns_to_keep_matches = {\n",
    "    'fixtures.csv': ['eventId', 'homeTeamId', 'awayTeamId', 'homeTeamWinner', 'awayTeamWinner', 'homeTeamScore', 'awayTeamScore', 'date'],\n",
    "    'teamStats.csv': ['eventId', 'teamId', 'possessionPct', 'totalShots', 'shotsOnTarget', 'saves', 'wonCorners'],\n",
    "}"
   ]
  },
  {
   "cell_type": "code",
   "execution_count": 82,
   "id": "da2c6a98",
   "metadata": {},
   "outputs": [],
   "source": [
    "dfs_matches = []\n",
    "\n",
    "for filename, columns in columns_to_keep_matches.items():\n",
    "    path = os.path.join(data_dir, filename)\n",
    "    df = pd.read_csv(path, usecols=columns)\n",
    "    dfs_matches.append(df)\n",
    "   "
   ]
  },
  {
   "cell_type": "code",
   "execution_count": 83,
   "id": "c30de48e",
   "metadata": {},
   "outputs": [],
   "source": [
    "merged_df_teams = reduce(lambda left, right: pd.merge(left, right, on='teamId', how='inner'), dfs_teams)\n",
    "\n",
    "# Generate ordered column list automatically\n",
    "ordered_columns_t = []\n",
    "for cols in columns_to_keep_teams.values():\n",
    "    for col in cols:\n",
    "        if col not in ordered_columns_t:\n",
    "            ordered_columns_t.append(col)\n",
    "\n",
    "# Reorder columns safely\n",
    "merged_df_teams = merged_df_teams[[col for col in ordered_columns_t if col in merged_df_teams.columns]]"
   ]
  },
  {
   "cell_type": "code",
   "execution_count": 84,
   "id": "3c0561c9",
   "metadata": {},
   "outputs": [],
   "source": [
    "merged_df_matches = reduce(lambda left, right: pd.merge(left, right, on='eventId', how='inner'), dfs_matches)\n",
    "\n",
    "# Generate ordered column list automatically\n",
    "ordered_columns_m = []\n",
    "for cols in columns_to_keep_matches.values():\n",
    "    for col in cols:\n",
    "        if col not in ordered_columns_m:\n",
    "            ordered_columns_m.append(col)\n",
    "\n",
    "# Reorder columns safely\n",
    "merged_df_matches = merged_df_matches[[col for col in ordered_columns_m if col in merged_df_matches.columns]]"
   ]
  },
  {
   "cell_type": "code",
   "execution_count": 85,
   "id": "5ccd0951",
   "metadata": {},
   "outputs": [
    {
     "name": "stdout",
     "output_type": "stream",
     "text": [
      "Merged CSV saved to new_data\\database_teams.csv\n"
     ]
    }
   ],
   "source": [
    "output_path_teams = os.path.join(new_data_dir, 'database_teams.csv')\n",
    "\n",
    "os.makedirs(os.path.dirname(output_path_teams), exist_ok=True)\n",
    "\n",
    "merged_df_teams.to_csv(output_path_teams, index=False)\n",
    "\n",
    "print(f\"Merged CSV saved to {output_path_teams}\")\n"
   ]
  },
  {
   "cell_type": "code",
   "execution_count": 86,
   "id": "20fbcbd5",
   "metadata": {},
   "outputs": [
    {
     "name": "stdout",
     "output_type": "stream",
     "text": [
      "Merged CSV saved to new_data\\database_matches.csv\n"
     ]
    }
   ],
   "source": [
    "output_path_matches = os.path.join(new_data_dir, 'database_matches.csv')\n",
    "\n",
    "os.makedirs(os.path.dirname(output_path_matches), exist_ok=True)\n",
    "\n",
    "merged_df_matches.to_csv(output_path_matches, index=False)\n",
    "\n",
    "print(f\"Merged CSV saved to {output_path_matches}\")\n"
   ]
  },
  {
   "cell_type": "code",
   "execution_count": 87,
   "id": "6d781d06",
   "metadata": {},
   "outputs": [
    {
     "name": "stdout",
     "output_type": "stream",
     "text": [
      "        Rn  seasonType  leagueId  eventId                date  venueId  \\\n",
      "23179  294       12747       720   711720 2025-05-10 16:30:00     1935   \n",
      "\n",
      "       attendance  homeTeamId  awayTeamId  homeTeamWinner  awayTeamWinner  \\\n",
      "23179       75000         132         268            True           False   \n",
      "\n",
      "       homeTeamScore  awayTeamScore  homeTeamShootoutScore  \\\n",
      "23179              2              0                      0   \n",
      "\n",
      "       awayTeamShootoutScore  statusId           updateTime  \n",
      "23179                      0        28  2025-05-12 04:22:34  \n"
     ]
    }
   ],
   "source": [
    "import pandas as pd\n",
    "\n",
    "# Load fixtures.csv\n",
    "fixtures_path = r\"D:\\UPC\\Probalistic Methods\\Probabilistic-Models-in-Sports-Analytics\\base_data\\fixtures.csv\"\n",
    "fixtures_df = pd.read_csv(fixtures_path)\n",
    "\n",
    "# Ensure 'date' column is in datetime format\n",
    "fixtures_df['date'] = pd.to_datetime(fixtures_df['date'])\n",
    "\n",
    "# Filter for the match\n",
    "target_date = pd.Timestamp('2025-05-10')\n",
    "filtered_match = fixtures_df[\n",
    "    (fixtures_df['date'].dt.date == target_date.date()) &\n",
    "    (fixtures_df['homeTeamId'] == 132)\n",
    "]\n",
    "\n",
    "print(filtered_match)\n"
   ]
  }
 ],
 "metadata": {
  "kernelspec": {
   "display_name": "Python 3",
   "language": "python",
   "name": "python3"
  },
  "language_info": {
   "codemirror_mode": {
    "name": "ipython",
    "version": 3
   },
   "file_extension": ".py",
   "mimetype": "text/x-python",
   "name": "python",
   "nbconvert_exporter": "python",
   "pygments_lexer": "ipython3",
   "version": "3.12.6"
  }
 },
 "nbformat": 4,
 "nbformat_minor": 5
}
