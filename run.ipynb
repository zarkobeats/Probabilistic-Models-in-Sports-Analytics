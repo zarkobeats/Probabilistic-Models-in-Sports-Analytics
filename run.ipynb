{
 "cells": [
  {
   "cell_type": "markdown",
   "id": "62c85810",
   "metadata": {},
   "source": [
    "### Imports"
   ]
  },
  {
   "cell_type": "code",
   "execution_count": 1,
   "id": "bc890d32",
   "metadata": {},
   "outputs": [],
   "source": [
    "import os\n",
    "import pandas as pd\n",
    "import numpy as np"
   ]
  },
  {
   "cell_type": "code",
   "execution_count": 2,
   "id": "89f6eb88",
   "metadata": {},
   "outputs": [],
   "source": [
    "data_dir = r\"D:\\UPC\\Probalistic Methods\\Probabilistic-Models-in-Sports-Analytics\\base_data\"\n",
    "new_data_dir = r\"D:\\UPC\\Probalistic Methods\\Probabilistic-Models-in-Sports-Analytics\\new_data\"\n",
    "csv_files = [f for f in os.listdir(data_dir) if f.endswith('.csv')]"
   ]
  },
  {
   "cell_type": "code",
   "execution_count": 3,
   "id": "cff926a4",
   "metadata": {},
   "outputs": [],
   "source": [
    "columns_to_keep = {\n",
    "    'standings.csv': ['teamId', 'form'],\n",
    "    'teamRoster.csv': ['teamId', 'teamName'],\n",
    "}"
   ]
  },
  {
   "cell_type": "code",
   "execution_count": 8,
   "id": "a3285389",
   "metadata": {},
   "outputs": [],
   "source": [
    "dfs = []\n",
    "\n",
    "for filename, columns in columns_to_keep.items():\n",
    "    path = os.path.join(data_dir, filename)\n",
    "    df = pd.read_csv(path, usecols=columns)\n",
    "    dfs.append(df)\n",
    "   "
   ]
  },
  {
   "cell_type": "code",
   "execution_count": 5,
   "id": "c30de48e",
   "metadata": {},
   "outputs": [],
   "source": [
    "merged_df = pd.merge(dfs[0], dfs[1], on='teamId', how='inner')\n",
    "merged_df = merged_df[['teamId', 'teamName', 'form']]"
   ]
  },
  {
   "cell_type": "code",
   "execution_count": null,
   "id": "5ccd0951",
   "metadata": {},
   "outputs": [
    {
     "name": "stdout",
     "output_type": "stream",
     "text": [
      "Merged CSV saved to D:\\UPC\\Probalistic Methods\\Probabilistic-Models-in-Sports-Analytics\\new_data\\database.csv\n"
     ]
    }
   ],
   "source": [
    "output_path = os.path.join(new_data_dir, 'database.csv')\n",
    "\n",
    "os.makedirs(os.path.dirname(output_path), exist_ok=True)\n",
    "\n",
    "merged_df.to_csv(output_path, index=False)\n",
    "\n",
    "print(f\"Merged CSV saved to {output_path}\")\n"
   ]
  }
 ],
 "metadata": {
  "kernelspec": {
   "display_name": "Python 3",
   "language": "python",
   "name": "python3"
  },
  "language_info": {
   "codemirror_mode": {
    "name": "ipython",
    "version": 3
   },
   "file_extension": ".py",
   "mimetype": "text/x-python",
   "name": "python",
   "nbconvert_exporter": "python",
   "pygments_lexer": "ipython3",
   "version": "3.12.6"
  }
 },
 "nbformat": 4,
 "nbformat_minor": 5
}
