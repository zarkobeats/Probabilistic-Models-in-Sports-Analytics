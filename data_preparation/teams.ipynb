{
 "cells": [
  {
   "cell_type": "markdown",
   "id": "0",
   "metadata": {},
   "source": [
    "### Imports"
   ]
  },
  {
   "cell_type": "code",
   "execution_count": null,
   "id": "1",
   "metadata": {},
   "outputs": [],
   "source": [
    "import os\n",
    "import pandas as pd\n",
    "import numpy as np\n",
    "from functools import reduce\n"
   ]
  },
  {
   "cell_type": "code",
   "execution_count": null,
   "id": "2",
   "metadata": {},
   "outputs": [],
   "source": [
    "data_dir = \"../base_data\"\n",
    "new_data_dir = \"new_data\""
   ]
  },
  {
   "cell_type": "code",
   "execution_count": null,
   "id": "3",
   "metadata": {},
   "outputs": [],
   "source": [
    "columns_to_keep_teams = {\n",
    "    'teamRoster.csv': ['teamId', 'teamName'],\n",
    "    'standings.csv': ['teamId', 'form', 'teamRank', 'teamId','gamesPlayed','wins', 'ties', 'losses', 'points','gf','ga','gd'],\n",
    "}\n"
   ]
  },
  {
   "cell_type": "code",
   "execution_count": null,
   "id": "4",
   "metadata": {},
   "outputs": [],
   "source": [
    "dfs_teams = []\n",
    "\n",
    "for filename, columns in columns_to_keep_teams.items():\n",
    "    path = os.path.join(data_dir, filename)\n",
    "    df = pd.read_csv(path, usecols=columns)\n",
    "    dfs_teams.append(df)"
   ]
  },
  {
   "cell_type": "code",
   "execution_count": null,
   "id": "5",
   "metadata": {},
   "outputs": [],
   "source": [
    "merged_df_teams = reduce(lambda left, right: pd.merge(left, right, on='teamId', how='inner'), dfs_teams)\n",
    "\n",
    "# Generate ordered column list automatically\n",
    "ordered_columns_t = []\n",
    "for cols in columns_to_keep_teams.values():\n",
    "    for col in cols:\n",
    "        if col not in ordered_columns_t:\n",
    "            ordered_columns_t.append(col)\n",
    "\n",
    "# Reorder columns safely\n",
    "merged_df_teams = merged_df_teams[[col for col in ordered_columns_t if col in merged_df_teams.columns]]\n",
    "merged_df_teams = merged_df_teams.dropna()\n"
   ]
  },
  {
   "cell_type": "code",
   "execution_count": null,
   "id": "6",
   "metadata": {},
   "outputs": [],
   "source": [
    "cols_to_int = ['teamRank', 'gamesPlayed', 'wins', 'ties', 'losses', 'points', 'gf', 'ga', 'gd']\n",
    "merged_df_teams[cols_to_int] = merged_df_teams[cols_to_int].astype(int)\n"
   ]
  },
  {
   "cell_type": "code",
   "execution_count": null,
   "id": "7",
   "metadata": {},
   "outputs": [],
   "source": [
    "merged_df_teams.head()"
   ]
  },
  {
   "cell_type": "code",
   "execution_count": null,
   "id": "8",
   "metadata": {},
   "outputs": [],
   "source": [
    "df = merged_df_teams.groupby(['teamId']).agg(\n",
    "homeTeamId=pd.NamedAgg(column=\"homeTeamId\", aggfunc=\"first\"),\n",
    "homeTeamScore=pd.NamedAgg(column=\"homeTeamScore\", aggfunc=\"first\"),\n",
    "homeTeamWinner=pd.NamedAgg(column=\"homeTeamWinner\", aggfunc=\"first\"),\n",
    "possessionPct_home=pd.NamedAgg(column=\"possessionPct\", aggfunc=\"first\"),\n",
    "totalShots_home=pd.NamedAgg(column=\"totalShots\", aggfunc=\"first\"),\n",
    "shotsOnTarget_home=pd.NamedAgg(column=\"shotsOnTarget\", aggfunc=\"first\"),\n",
    "saves_home=pd.NamedAgg(column=\"saves\", aggfunc=\"first\"),\n",
    "wonCorners_home=pd.NamedAgg(column=\"wonCorners\", aggfunc=\"first\"),\n",
    ").reset_index()"
   ]
  },
  {
   "cell_type": "code",
   "execution_count": null,
   "id": "9",
   "metadata": {},
   "outputs": [],
   "source": [
    "output_path_teams = os.path.join(new_data_dir, 'database_teams.csv')\n",
    "\n",
    "os.makedirs(os.path.dirname(output_path_teams), exist_ok=True)\n",
    "\n",
    "merged_df_teams.to_csv(output_path_teams, index=False)\n",
    "\n",
    "print(f\"Merged CSV saved to {output_path_teams}\")\n"
   ]
  }
 ],
 "metadata": {
  "kernelspec": {
   "display_name": "Python 3",
   "language": "python",
   "name": "python3"
  },
  "language_info": {
   "codemirror_mode": {
    "name": "ipython",
    "version": 3
   },
   "file_extension": ".py",
   "mimetype": "text/x-python",
   "name": "python",
   "nbconvert_exporter": "python",
   "pygments_lexer": "ipython3",
   "version": "3.12.6"
  }
 },
 "nbformat": 4,
 "nbformat_minor": 5
}
