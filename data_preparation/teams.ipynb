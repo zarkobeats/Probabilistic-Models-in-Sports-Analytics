{
 "cells": [
  {
   "cell_type": "markdown",
   "id": "62c85810",
   "metadata": {},
   "source": [
    "### Imports"
   ]
  },
  {
   "cell_type": "code",
   "execution_count": 2,
   "id": "bc890d32",
   "metadata": {},
   "outputs": [],
   "source": [
    "import os\n",
    "import pandas as pd\n",
    "import numpy as np\n",
    "from functools import reduce\n"
   ]
  },
  {
   "cell_type": "code",
   "execution_count": 3,
   "id": "89f6eb88",
   "metadata": {},
   "outputs": [],
   "source": [
    "data_dir = \"../base_data\"\n",
    "new_data_dir = \"new_data\""
   ]
  },
  {
   "cell_type": "code",
   "execution_count": 4,
   "id": "cff926a4",
   "metadata": {},
   "outputs": [],
   "source": [
    "columns_to_keep_teams = {\n",
    "    'teamRoster.csv': ['teamId', 'teamName'],\n",
    "    'standings.csv': ['teamId', 'form', 'teamRank', 'teamId','gamesPlayed','wins', 'ties', 'losses', 'points','gf','ga','gd'],\n",
    "}\n"
   ]
  },
  {
   "cell_type": "code",
   "execution_count": 5,
   "id": "da2c6a98",
   "metadata": {},
   "outputs": [],
   "source": [
    "dfs_teams = []\n",
    "\n",
    "for filename, columns in columns_to_keep_teams.items():\n",
    "    path = os.path.join(data_dir, filename)\n",
    "    df = pd.read_csv(path, usecols=columns)\n",
    "    dfs_teams.append(df)"
   ]
  },
  {
   "cell_type": "code",
   "execution_count": 6,
   "id": "c30de48e",
   "metadata": {},
   "outputs": [],
   "source": [
    "merged_df_teams = reduce(lambda left, right: pd.merge(left, right, on='teamId', how='inner'), dfs_teams)\n",
    "\n",
    "# Generate ordered column list automatically\n",
    "ordered_columns_t = []\n",
    "for cols in columns_to_keep_teams.values():\n",
    "    for col in cols:\n",
    "        if col not in ordered_columns_t:\n",
    "            ordered_columns_t.append(col)\n",
    "\n",
    "# Reorder columns safely\n",
    "merged_df_teams = merged_df_teams[[col for col in ordered_columns_t if col in merged_df_teams.columns]]\n",
    "merged_df_teams = merged_df_teams.dropna()\n"
   ]
  },
  {
   "cell_type": "code",
   "execution_count": null,
   "id": "0375e41f",
   "metadata": {},
   "outputs": [],
   "source": [
    "cols_to_int = ['teamRank', 'gamesPlayed', 'wins', 'ties', 'losses', 'points', 'gf', 'ga', 'gd']\n",
    "merged_df_teams[cols_to_int] = merged_df_teams[cols_to_int].astype(int)\n"
   ]
  },
  {
   "cell_type": "code",
   "execution_count": 10,
   "id": "c7219124",
   "metadata": {},
   "outputs": [
    {
     "data": {
      "text/html": [
       "<div>\n",
       "<style scoped>\n",
       "    .dataframe tbody tr th:only-of-type {\n",
       "        vertical-align: middle;\n",
       "    }\n",
       "\n",
       "    .dataframe tbody tr th {\n",
       "        vertical-align: top;\n",
       "    }\n",
       "\n",
       "    .dataframe thead th {\n",
       "        text-align: right;\n",
       "    }\n",
       "</style>\n",
       "<table border=\"1\" class=\"dataframe\">\n",
       "  <thead>\n",
       "    <tr style=\"text-align: right;\">\n",
       "      <th></th>\n",
       "      <th>teamId</th>\n",
       "      <th>teamName</th>\n",
       "      <th>form</th>\n",
       "      <th>teamRank</th>\n",
       "      <th>gamesPlayed</th>\n",
       "      <th>wins</th>\n",
       "      <th>ties</th>\n",
       "      <th>losses</th>\n",
       "      <th>points</th>\n",
       "      <th>gf</th>\n",
       "      <th>ga</th>\n",
       "      <th>gd</th>\n",
       "    </tr>\n",
       "  </thead>\n",
       "  <tbody>\n",
       "    <tr>\n",
       "      <th>0</th>\n",
       "      <td>21361</td>\n",
       "      <td>Kyoto Sanga</td>\n",
       "      <td>WDDLD</td>\n",
       "      <td>14</td>\n",
       "      <td>38</td>\n",
       "      <td>12</td>\n",
       "      <td>11</td>\n",
       "      <td>15</td>\n",
       "      <td>47</td>\n",
       "      <td>43</td>\n",
       "      <td>55</td>\n",
       "      <td>-12</td>\n",
       "    </tr>\n",
       "    <tr>\n",
       "      <th>1</th>\n",
       "      <td>21361</td>\n",
       "      <td>Kyoto Sanga</td>\n",
       "      <td>WLLWD</td>\n",
       "      <td>3</td>\n",
       "      <td>17</td>\n",
       "      <td>8</td>\n",
       "      <td>4</td>\n",
       "      <td>5</td>\n",
       "      <td>28</td>\n",
       "      <td>24</td>\n",
       "      <td>21</td>\n",
       "      <td>3</td>\n",
       "    </tr>\n",
       "    <tr>\n",
       "      <th>2</th>\n",
       "      <td>21361</td>\n",
       "      <td>Kyoto Sanga</td>\n",
       "      <td>WDDLD</td>\n",
       "      <td>14</td>\n",
       "      <td>38</td>\n",
       "      <td>12</td>\n",
       "      <td>11</td>\n",
       "      <td>15</td>\n",
       "      <td>47</td>\n",
       "      <td>43</td>\n",
       "      <td>55</td>\n",
       "      <td>-12</td>\n",
       "    </tr>\n",
       "    <tr>\n",
       "      <th>3</th>\n",
       "      <td>21361</td>\n",
       "      <td>Kyoto Sanga</td>\n",
       "      <td>WLLWD</td>\n",
       "      <td>3</td>\n",
       "      <td>17</td>\n",
       "      <td>8</td>\n",
       "      <td>4</td>\n",
       "      <td>5</td>\n",
       "      <td>28</td>\n",
       "      <td>24</td>\n",
       "      <td>21</td>\n",
       "      <td>3</td>\n",
       "    </tr>\n",
       "    <tr>\n",
       "      <th>4</th>\n",
       "      <td>21361</td>\n",
       "      <td>Kyoto Sanga</td>\n",
       "      <td>WDDLD</td>\n",
       "      <td>14</td>\n",
       "      <td>38</td>\n",
       "      <td>12</td>\n",
       "      <td>11</td>\n",
       "      <td>15</td>\n",
       "      <td>47</td>\n",
       "      <td>43</td>\n",
       "      <td>55</td>\n",
       "      <td>-12</td>\n",
       "    </tr>\n",
       "  </tbody>\n",
       "</table>\n",
       "</div>"
      ],
      "text/plain": [
       "   teamId     teamName   form  teamRank  gamesPlayed  wins  ties  losses   \n",
       "0   21361  Kyoto Sanga  WDDLD        14           38    12    11      15  \\\n",
       "1   21361  Kyoto Sanga  WLLWD         3           17     8     4       5   \n",
       "2   21361  Kyoto Sanga  WDDLD        14           38    12    11      15   \n",
       "3   21361  Kyoto Sanga  WLLWD         3           17     8     4       5   \n",
       "4   21361  Kyoto Sanga  WDDLD        14           38    12    11      15   \n",
       "\n",
       "   points  gf  ga  gd  \n",
       "0      47  43  55 -12  \n",
       "1      28  24  21   3  \n",
       "2      47  43  55 -12  \n",
       "3      28  24  21   3  \n",
       "4      47  43  55 -12  "
      ]
     },
     "execution_count": 10,
     "metadata": {},
     "output_type": "execute_result"
    }
   ],
   "source": [
    "merged_df_teams.head()"
   ]
  },
  {
   "cell_type": "code",
   "execution_count": 8,
   "id": "ce760ea2",
   "metadata": {},
   "outputs": [],
   "source": [
    "# df = merged_df_teams.groupby(['eventId']).agg(\n",
    "# homeTeamId=pd.NamedAgg(column=\"homeTeamId\", aggfunc=\"first\"),\n",
    "# awayTeamId=pd.NamedAgg(column=\"awayTeamId\", aggfunc=\"last\"),\n",
    "# homeTeamScore=pd.NamedAgg(column=\"homeTeamScore\", aggfunc=\"first\"),\n",
    "# awayTeamScore=pd.NamedAgg(column=\"awayTeamScore\", aggfunc=\"last\"),\n",
    "# homeTeamWinner=pd.NamedAgg(column=\"homeTeamWinner\", aggfunc=\"first\"),\n",
    "# awayTeamWinner=pd.NamedAgg(column=\"awayTeamWinner\", aggfunc=\"last\"),\n",
    "# possessionPct_home=pd.NamedAgg(column=\"possessionPct\", aggfunc=\"first\"),\n",
    "# possessionPct_away=pd.NamedAgg(column=\"possessionPct\", aggfunc=\"last\"),\n",
    "# totalShots_home=pd.NamedAgg(column=\"totalShots\", aggfunc=\"first\"),\n",
    "# totalShots_away=pd.NamedAgg(column=\"totalShots\", aggfunc=\"last\"),\n",
    "# shotsOnTarget_home=pd.NamedAgg(column=\"shotsOnTarget\", aggfunc=\"first\"),\n",
    "# shotsOnTarget_away=pd.NamedAgg(column=\"shotsOnTarget\", aggfunc=\"last\"),\n",
    "# saves_home=pd.NamedAgg(column=\"saves\", aggfunc=\"first\"),\n",
    "# saves_away=pd.NamedAgg(column=\"saves\", aggfunc=\"last\"),\n",
    "# wonCorners_home=pd.NamedAgg(column=\"wonCorners\", aggfunc=\"first\"),\n",
    "# wonCorners_away=pd.NamedAgg(column=\"wonCorners\", aggfunc=\"last\"),\n",
    "# ).reset_index()"
   ]
  },
  {
   "cell_type": "code",
   "execution_count": 9,
   "id": "5ccd0951",
   "metadata": {},
   "outputs": [
    {
     "name": "stdout",
     "output_type": "stream",
     "text": [
      "Merged CSV saved to new_data\\database_teams.csv\n"
     ]
    }
   ],
   "source": [
    "output_path_teams = os.path.join(new_data_dir, 'database_teams.csv')\n",
    "\n",
    "os.makedirs(os.path.dirname(output_path_teams), exist_ok=True)\n",
    "\n",
    "merged_df_teams.to_csv(output_path_teams, index=False)\n",
    "\n",
    "print(f\"Merged CSV saved to {output_path_teams}\")\n"
   ]
  }
 ],
 "metadata": {
  "kernelspec": {
   "display_name": "base",
   "language": "python",
   "name": "python3"
  },
  "language_info": {
   "codemirror_mode": {
    "name": "ipython",
    "version": 3
   },
   "file_extension": ".py",
   "mimetype": "text/x-python",
   "name": "python",
   "nbconvert_exporter": "python",
   "pygments_lexer": "ipython3",
   "version": "3.11.2"
  }
 },
 "nbformat": 4,
 "nbformat_minor": 5
}
