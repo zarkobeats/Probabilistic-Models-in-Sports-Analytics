{
 "cells": [
  {
   "cell_type": "markdown",
   "id": "0",
   "metadata": {},
   "source": [
    "**Imports**"
   ]
  },
  {
   "cell_type": "code",
   "execution_count": null,
   "id": "1",
   "metadata": {},
   "outputs": [],
   "source": [
    "import os\n",
    "import pandas as pd\n",
    "import numpy as np\n",
    "from functools import reduce"
   ]
  },
  {
   "cell_type": "code",
   "execution_count": null,
   "id": "2",
   "metadata": {},
   "outputs": [],
   "source": [
    "data_dir = \"../base_data\"\n",
    "new_data_dir = \"new_data\""
   ]
  },
  {
   "cell_type": "markdown",
   "id": "3",
   "metadata": {},
   "source": [
    "**Data to use in the beginning**"
   ]
  },
  {
   "cell_type": "code",
   "execution_count": null,
   "id": "4",
   "metadata": {},
   "outputs": [],
   "source": [
    "columns_to_keep_teams = {\n",
    "    'teamRoster.csv': ['teamId', 'teamName'],\n",
    "    'standings.csv': ['teamId', 'leagueId', 'form', 'teamRank', 'teamId','gamesPlayed','wins', 'ties', 'losses', 'points','gf','ga','gd', 'timeStamp'],\n",
    "}\n"
   ]
  },
  {
   "cell_type": "code",
   "execution_count": null,
   "id": "5",
   "metadata": {},
   "outputs": [],
   "source": [
    "dfs_teams = []\n",
    "\n",
    "for filename, columns in columns_to_keep_teams.items():\n",
    "    path = os.path.join(data_dir, filename)\n",
    "    df = pd.read_csv(path, usecols=columns)\n",
    "    dfs_teams.append(df)"
   ]
  },
  {
   "cell_type": "code",
   "execution_count": null,
   "id": "6",
   "metadata": {},
   "outputs": [],
   "source": [
    "merged_df_teams = reduce(lambda left, right: pd.merge(left, right, on='teamId', how='inner'), dfs_teams)\n",
    "\n",
    "# Generate ordered column list automatically\n",
    "ordered_columns_t = []\n",
    "for cols in columns_to_keep_teams.values():\n",
    "    for col in cols:\n",
    "        if col not in ordered_columns_t:\n",
    "            ordered_columns_t.append(col)\n",
    "\n",
    "# Reorder columns safely\n",
    "merged_df_teams = merged_df_teams[[col for col in ordered_columns_t if col in merged_df_teams.columns]]\n",
    "merged_df_teams = merged_df_teams.dropna()\n"
   ]
  },
  {
   "cell_type": "markdown",
   "id": "7",
   "metadata": {},
   "source": [
    "**Converting float values to integers, for better view**"
   ]
  },
  {
   "cell_type": "code",
   "execution_count": null,
   "id": "8",
   "metadata": {},
   "outputs": [],
   "source": [
    "cols_to_int = ['teamRank', 'gamesPlayed', 'wins', 'ties', 'losses', 'points', 'gf', 'ga', 'gd']\n",
    "merged_df_teams[cols_to_int] = merged_df_teams[cols_to_int].astype(int)\n"
   ]
  },
  {
   "cell_type": "markdown",
   "id": "9",
   "metadata": {},
   "source": [
    "**Using only matches from Bundesliga(GER1) with league Id = 720**"
   ]
  },
  {
   "cell_type": "code",
   "execution_count": null,
   "id": "10",
   "metadata": {},
   "outputs": [],
   "source": [
    "merged_df_teams = merged_df_teams[merged_df_teams['leagueId'] == 720]"
   ]
  },
  {
   "cell_type": "code",
   "execution_count": null,
   "id": "11",
   "metadata": {},
   "outputs": [],
   "source": [
    "merged_df_teams = (\n",
    "    merged_df_teams\n",
    "    .groupby('teamId', as_index=False)\n",
    "    .agg(\n",
    "        League=('leagueId', 'first'),\n",
    "        Rank=('teamRank', 'first'),\n",
    "        Team=('teamName', 'first'),\n",
    "        Form=('form', 'first'),\n",
    "        Games=('gamesPlayed', 'first'),\n",
    "        Wins=('wins', 'first'),\n",
    "        Ties=('ties', 'first'),\n",
    "        Losses=('losses', 'first'),\n",
    "        Points=('points', 'first'),\n",
    "        Goal_for=('gf', 'first'),\n",
    "        Goal_against=('ga', 'first'),\n",
    "        Goal_difference=('gd', 'first')\n",
    "    )\n",
    "    .sort_values(by=['League', 'Rank'])\n",
    ")\n"
   ]
  },
  {
   "cell_type": "code",
   "execution_count": null,
   "id": "12",
   "metadata": {},
   "outputs": [],
   "source": [
    "# Define custom league name mapping\n",
    "league_name_map = {\n",
    "    720: \"GER1\",\n",
    "}\n",
    "\n",
    "# Replace leagueId with custom league names\n",
    "merged_df_teams['League'] = merged_df_teams['League'].map(league_name_map)\n"
   ]
  },
  {
   "cell_type": "markdown",
   "id": "13",
   "metadata": {},
   "source": [
    "**Calculating average points per match, which is a good indicator for performance**"
   ]
  },
  {
   "cell_type": "code",
   "execution_count": null,
   "id": "14",
   "metadata": {},
   "outputs": [],
   "source": [
    "merged_df_teams[\"avg_points_per_match\"] = (merged_df_teams[\"Points\"] / merged_df_teams[\"Games\"]).round(2)\n"
   ]
  },
  {
   "cell_type": "markdown",
   "id": "15",
   "metadata": {},
   "source": [
    "**Rewarding the past 5 games form with different weights, based on when was the last match played, the sooner - the higher the weight**"
   ]
  },
  {
   "cell_type": "code",
   "execution_count": null,
   "id": "16",
   "metadata": {},
   "outputs": [],
   "source": [
    "form_points = {'W': 3, 'D': 1, 'L': 0}\n",
    "weights = [0.5, 0.55, 0.65, 0.8, 1.0]\n",
    "\n",
    "def weighted_form_score(form_str):\n",
    "    return sum(form_points.get(ch, 0) * w for ch, w in zip(form_str, weights))\n",
    "\n",
    "merged_df_teams['weighted_form_score'] = merged_df_teams['Form'].apply(weighted_form_score)\n",
    "\n",
    "bins = [0, 3.5, 7.0, 10.5]\n",
    "labels = ['low', 'medium', 'high']\n",
    "\n",
    "# Create the class column\n",
    "merged_df_teams['form_score_bin'] = pd.cut(\n",
    "    merged_df_teams['weighted_form_score'],\n",
    "    bins=bins,\n",
    "    labels=labels,\n",
    "    include_lowest=True\n",
    ")\n",
    "\n",
    "merged_df_teams.drop(columns=['weighted_form_score', 'Form'], inplace=True)"
   ]
  },
  {
   "cell_type": "code",
   "execution_count": null,
   "id": "17",
   "metadata": {},
   "outputs": [],
   "source": [
    "merged_df_teams = (\n",
    "    merged_df_teams\n",
    "    .groupby('teamId', as_index=False)\n",
    "    .agg(\n",
    "        League=('League', 'first'),\n",
    "        Rank=('Rank', 'first'),\n",
    "        Team=('Team', 'first'),\n",
    "        Form=('form_score_bin', 'first'),\n",
    "        Average_Points=('avg_points_per_match', 'first'),\n",
    "        Games=('Games', 'first'),\n",
    "        Wins=('Wins', 'first'),\n",
    "        Ties=('Ties', 'first'),\n",
    "        Losses=('Losses', 'first'),\n",
    "        Points=('Points', 'first'),\n",
    "        Goal_for=('Goal_for', 'first'),\n",
    "        Goal_against=('Goal_against', 'first'),\n",
    "        Goal_difference=('Goal_difference', 'first'),\n",
    "    )\n",
    "    .sort_values(by=['League', 'Rank'])\n",
    ")\n"
   ]
  },
  {
   "cell_type": "markdown",
   "id": "18",
   "metadata": {},
   "source": [
    "**Output df to csv**"
   ]
  },
  {
   "cell_type": "code",
   "execution_count": null,
   "id": "19",
   "metadata": {},
   "outputs": [],
   "source": [
    "output_path_teams = os.path.join(new_data_dir, 'database_teams.csv')\n",
    "\n",
    "os.makedirs(os.path.dirname(output_path_teams), exist_ok=True)\n",
    "\n",
    "merged_df_teams.to_csv(output_path_teams, index=False)\n",
    "\n",
    "print(f\"Merged CSV saved to {output_path_teams}\")\n"
   ]
  }
 ],
 "metadata": {
  "kernelspec": {
   "display_name": "Python 3",
   "language": "python",
   "name": "python3"
  },
  "language_info": {
   "codemirror_mode": {
    "name": "ipython",
    "version": 3
   },
   "file_extension": ".py",
   "mimetype": "text/x-python",
   "name": "python",
   "nbconvert_exporter": "python",
   "pygments_lexer": "ipython3",
   "version": "3.12.6"
  }
 },
 "nbformat": 4,
 "nbformat_minor": 5
}
