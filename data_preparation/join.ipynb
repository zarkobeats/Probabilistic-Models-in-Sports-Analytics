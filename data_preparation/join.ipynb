{
 "cells": [
  {
   "cell_type": "code",
   "execution_count": null,
   "id": "0",
   "metadata": {},
   "outputs": [],
   "source": [
    "import pandas as pd\n",
    "import os"
   ]
  },
  {
   "cell_type": "code",
   "execution_count": null,
   "id": "1",
   "metadata": {},
   "outputs": [],
   "source": [
    "teams = pd.read_csv(\"new_data/database_teams.csv\")\n",
    "matches = pd.read_csv(\"new_data/database_matches.csv\")"
   ]
  },
  {
   "cell_type": "markdown",
   "id": "2",
   "metadata": {},
   "source": [
    "**Applying home_ and away_ prefix and dropping unnecessary columns**"
   ]
  },
  {
   "cell_type": "code",
   "execution_count": null,
   "id": "3",
   "metadata": {},
   "outputs": [],
   "source": [
    "# Merge home team stats\n",
    "matches = matches.merge(\n",
    "    teams.add_prefix(\"home_\"),\n",
    "    left_on=\"homeTeamId\",\n",
    "    right_on=\"home_teamId\",\n",
    "    how=\"inner\"\n",
    ")\n",
    "\n",
    "# Merge away team stats\n",
    "matches = matches.merge(\n",
    "    teams.add_prefix(\"away_\"),\n",
    "    left_on=\"awayTeamId\",\n",
    "    right_on=\"away_teamId\",\n",
    "    how=\"inner\"\n",
    ").sort_values(\n",
    "    by=[\"date\"]\n",
    ")\n",
    "\n",
    "def get_result(row):\n",
    "    if row['homeTeamWinner'] == True:\n",
    "        return 'HomeWin'\n",
    "    elif row['awayTeamWinner'] == True:\n",
    "        return 'AwayWin'\n",
    "    elif row['homeTeamWinner'] == False and row['awayTeamWinner'] == False:\n",
    "        return 'Draw'\n",
    "    else:\n",
    "        return 'Unknown'\n",
    "\n",
    "matches['Result'] = matches.apply(get_result, axis=1)\n",
    "\n",
    "matches.drop(columns=[\n",
    "    \"homeTeamId\", \"awayTeamId\",\n",
    "    \"home_teamId\", \"away_teamId\",\n",
    "    \"homeTeamScore\", \"awayTeamScore\",\n",
    "    \"homeTeamWinner\", \"awayTeamWinner\",\n",
    "    \"leagueId\", \"home_Games\", \"away_Games\", \"away_League\", \"home_Goal_for\", \"home_Goal_against\", \"away_Goal_for\", \"away_Goal_against\", \"home_Wins\", \"home_Ties\", \"home_Losses\", \"away_Wins\", \"away_Ties\", \"away_Losses\", \"home_Points\", \"away_Points\",\n",
    "], inplace=True)\n",
    "\n",
    "matches = matches.sort_values(by=[\"date\"]).reset_index(drop=True)"
   ]
  },
  {
   "cell_type": "markdown",
   "id": "4",
   "metadata": {},
   "source": [
    "**Binning ranks, average points and goal difference**"
   ]
  },
  {
   "cell_type": "code",
   "execution_count": null,
   "id": "5",
   "metadata": {},
   "outputs": [],
   "source": [
    "def bin_rank(value):\n",
    "    if value <= 3:\n",
    "        return 'High'\n",
    "    elif value <= 6:\n",
    "        return 'Mid High'\n",
    "    elif value <= 10:\n",
    "        return 'Mid'\n",
    "    elif value <= 14:\n",
    "        return 'Mid Low'\n",
    "    else:\n",
    "        return 'Low'\n",
    "    \n",
    "def bin_avg_points(value):\n",
    "    if value <= 0.9:\n",
    "        return 'Low'\n",
    "    elif value <= 1.2:\n",
    "        return 'Mid Low'\n",
    "    elif value <= 1.6:\n",
    "        return 'Mid'\n",
    "    elif value <= 2.0:\n",
    "        return 'Mid High'\n",
    "    else:\n",
    "        return 'High'\n",
    "\n",
    "def bin_goal_diff(value):\n",
    "    if value <= -10:\n",
    "        return 'Low'\n",
    "    elif value <= 0:\n",
    "        return 'Mid Low'\n",
    "    elif value <= 10:\n",
    "        return 'Mid'\n",
    "    elif value <= 25:\n",
    "        return 'Mid High'\n",
    "    else:\n",
    "        return 'High'\n"
   ]
  },
  {
   "cell_type": "code",
   "execution_count": null,
   "id": "6",
   "metadata": {},
   "outputs": [],
   "source": [
    "matches['home_Rank_binned'] = matches['home_Rank'].apply(bin_rank)\n",
    "matches['away_Rank_binned'] = matches['away_Rank'].apply(bin_rank)\n",
    "\n",
    "matches['home_AvgPts_binned'] = matches['home_Average_Points'].apply(bin_avg_points)\n",
    "matches['away_AvgPts_binned'] = matches['away_Average_Points'].apply(bin_avg_points)\n",
    "\n",
    "matches['home_GD_binned'] = matches['home_Goal_difference'].apply(bin_goal_diff)\n",
    "matches['away_GD_binned'] = matches['away_Goal_difference'].apply(bin_goal_diff)"
   ]
  },
  {
   "cell_type": "markdown",
   "id": "7",
   "metadata": {},
   "source": [
    "**Computing team strength, based on the rank, form, average points per game and goal difference**"
   ]
  },
  {
   "cell_type": "code",
   "execution_count": null,
   "id": "8",
   "metadata": {},
   "outputs": [],
   "source": [
    "def compute_strength(rank, form, avg_pts, goal_diff):\n",
    "    score = 0\n",
    "\n",
    "    # Assign scores based on categorical input\n",
    "    if rank == 'High':\n",
    "        score += 4\n",
    "    elif rank == 'Mid High':\n",
    "        score += 3\n",
    "    elif rank == 'Mid':\n",
    "        score += 2\n",
    "    elif rank == 'Mid Low':\n",
    "        score += 1\n",
    "\n",
    "    if form == 'High':\n",
    "        score += 4\n",
    "    elif form == 'Mid High':\n",
    "        score += 3\n",
    "    elif form == 'Mid':\n",
    "        score += 2\n",
    "    elif form == 'Mid Low':\n",
    "        score += 1\n",
    "\n",
    "    if avg_pts == 'High':\n",
    "        score += 4\n",
    "    elif avg_pts == 'Mid High':\n",
    "        score += 3\n",
    "    elif avg_pts == 'Mid':\n",
    "        score += 2\n",
    "    elif avg_pts == 'Mid Low':\n",
    "        score += 1\n",
    "\n",
    "    if goal_diff == 'High':\n",
    "        score += 4\n",
    "    elif goal_diff == 'Mid High':\n",
    "        score += 3\n",
    "    elif goal_diff == 'Mid':\n",
    "        score += 2\n",
    "    elif goal_diff == 'Mid Low':\n",
    "        score += 1\n",
    "\n",
    "    # Bin based on total score (max = 16)\n",
    "    if score >= 14:\n",
    "        return 'Very Strong'\n",
    "    elif score >= 10:\n",
    "        return 'Strong'\n",
    "    elif score >= 6:\n",
    "        return 'Average'\n",
    "    elif score >= 3:\n",
    "        return 'Weak'\n",
    "    else:\n",
    "        return 'Very Weak'\n"
   ]
  },
  {
   "cell_type": "code",
   "execution_count": null,
   "id": "9",
   "metadata": {},
   "outputs": [],
   "source": [
    "matches['home_Strength'] = matches.apply(lambda row: compute_strength(\n",
    "    row['home_Rank_binned'], row['home_Form'],\n",
    "    row['home_AvgPts_binned'], row['home_GD_binned']\n",
    "), axis=1)\n",
    "\n",
    "matches['away_Strength'] = matches.apply(lambda row: compute_strength(\n",
    "    row['away_Rank_binned'], row['away_Form'],\n",
    "    row['away_AvgPts_binned'], row['away_GD_binned']\n",
    "), axis=1)\n",
    "matches.drop(columns=['home_Rank', 'away_Rank', 'home_Average_Points', 'away_Average_Points', 'home_Goal_difference', 'away_Goal_difference'], inplace=True)\n",
    "\n",
    "matches = matches.copy()"
   ]
  },
  {
   "cell_type": "markdown",
   "id": "10",
   "metadata": {},
   "source": [
    "**Save merged df into csv**"
   ]
  },
  {
   "cell_type": "code",
   "execution_count": null,
   "id": "11",
   "metadata": {},
   "outputs": [],
   "source": [
    "new_data_dir = \"new_data\"\n",
    "\n",
    "output_path_matches = os.path.join(new_data_dir, 'merged_matches.csv')\n",
    "os.makedirs(os.path.dirname(output_path_matches), exist_ok=True)\n",
    "matches.to_csv(output_path_matches, index=False)\n",
    "print(f\"Merged CSV saved to {output_path_matches}\")"
   ]
  }
 ],
 "metadata": {
  "kernelspec": {
   "display_name": "Python 3",
   "language": "python",
   "name": "python3"
  },
  "language_info": {
   "codemirror_mode": {
    "name": "ipython",
    "version": 3
   },
   "file_extension": ".py",
   "mimetype": "text/x-python",
   "name": "python",
   "nbconvert_exporter": "python",
   "pygments_lexer": "ipython3",
   "version": "3.12.6"
  }
 },
 "nbformat": 4,
 "nbformat_minor": 5
}
