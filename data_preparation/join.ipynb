{
 "cells": [
  {
   "cell_type": "code",
   "execution_count": null,
   "id": "0",
   "metadata": {},
   "outputs": [],
   "source": [
    "import pandas as pd\n",
    "import os\n",
    "\n",
    "# Load team and match data\n",
    "teams = pd.read_csv(\"new_data/database_teams.csv\")\n",
    "matches = pd.read_csv(\"new_data/database_matches.csv\")\n"
   ]
  },
  {
   "cell_type": "code",
   "execution_count": null,
   "id": "1",
   "metadata": {},
   "outputs": [],
   "source": [
    "# Merge home team stats\n",
    "matches = matches.merge(\n",
    "    teams.add_prefix(\"home_\"),\n",
    "    left_on=\"homeTeamId\",\n",
    "    right_on=\"home_teamId\",\n",
    "    how=\"inner\"\n",
    ")\n",
    "\n",
    "# Merge away team stats\n",
    "matches = matches.merge(\n",
    "    teams.add_prefix(\"away_\"),\n",
    "    left_on=\"awayTeamId\",\n",
    "    right_on=\"away_teamId\",\n",
    "    how=\"inner\"\n",
    ").sort_values(\n",
    "    by=[\"date\"]\n",
    ")\n",
    "\n",
    "def get_result(row):\n",
    "    if row['homeTeamWinner'] == True:\n",
    "        return 'HomeWin'\n",
    "    elif row['awayTeamWinner'] == True:\n",
    "        return 'AwayWin'\n",
    "    elif row['homeTeamWinner'] == False and row['awayTeamWinner'] == False:\n",
    "        return 'Draw'\n",
    "    else:\n",
    "        return 'Unknown'\n",
    "\n",
    "matches['Result'] = matches.apply(get_result, axis=1)\n",
    "\n",
    "matches.drop(columns=[\n",
    "    \"homeTeamId\", \"awayTeamId\",\n",
    "    \"home_teamId\", \"away_teamId\",\n",
    "    \"homeTeamScore\", \"awayTeamScore\",\n",
    "    \"homeTeamWinner\", \"awayTeamWinner\",\n",
    "    \"leagueId\", \"home_Games\", \"away_Games\", \"away_League\", \"home_Goal_for\", \"home_Goal_against\", \"away_Goal_for\", \"away_Goal_against\", \"home_Wins\", \"home_Ties\", \"home_Losses\", \"away_Wins\", \"away_Ties\", \"away_Losses\", \"home_Points\", \"away_Points\",\n",
    "], inplace=True)"
   ]
  },
  {
   "cell_type": "code",
   "execution_count": null,
   "id": "2",
   "metadata": {},
   "outputs": [],
   "source": [
    "new_data_dir = \"new_data\"\n",
    "\n",
    "output_path_matches = os.path.join(new_data_dir, 'merged_matches.csv')\n",
    "os.makedirs(os.path.dirname(output_path_matches), exist_ok=True)\n",
    "matches.to_csv(output_path_matches, index=False)\n",
    "print(f\"Merged CSV saved to {output_path_matches}\")"
   ]
  }
 ],
 "metadata": {
  "kernelspec": {
   "display_name": "Python 3",
   "language": "python",
   "name": "python3"
  },
  "language_info": {
   "codemirror_mode": {
    "name": "ipython",
    "version": 3
   },
   "file_extension": ".py",
   "mimetype": "text/x-python",
   "name": "python",
   "nbconvert_exporter": "python",
   "pygments_lexer": "ipython3",
   "version": "3.12.6"
  }
 },
 "nbformat": 4,
 "nbformat_minor": 5
}
