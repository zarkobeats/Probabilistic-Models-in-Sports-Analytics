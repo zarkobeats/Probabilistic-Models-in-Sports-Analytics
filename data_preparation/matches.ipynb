{
 "cells": [
  {
   "cell_type": "markdown",
   "id": "62c85810",
   "metadata": {},
   "source": [
    "### Imports"
   ]
  },
  {
   "cell_type": "code",
   "execution_count": 50,
   "id": "bc890d32",
   "metadata": {},
   "outputs": [],
   "source": [
    "import os\n",
    "import pandas as pd\n",
    "import numpy as np\n",
    "from functools import reduce\n"
   ]
  },
  {
   "cell_type": "code",
   "execution_count": 51,
   "id": "89f6eb88",
   "metadata": {},
   "outputs": [],
   "source": [
    "data_dir = \"../base_data\"\n",
    "new_data_dir = \"new_data\""
   ]
  },
  {
   "cell_type": "code",
   "execution_count": 52,
   "id": "cff926a4",
   "metadata": {},
   "outputs": [],
   "source": [
    "columns_to_keep_matches = {\n",
    "    'fixtures.csv': ['eventId', 'homeTeamId', 'awayTeamId', 'homeTeamWinner', 'awayTeamWinner', 'homeTeamScore', 'awayTeamScore', 'date'],\n",
    "    'teamStats.csv': ['eventId', 'teamId', 'possessionPct', 'totalShots', 'shotsOnTarget', 'saves', 'wonCorners'],\n",
    "}"
   ]
  },
  {
   "cell_type": "code",
   "execution_count": 53,
   "id": "da2c6a98",
   "metadata": {},
   "outputs": [],
   "source": [
    "dfs_matches = []\n",
    "\n",
    "for filename, columns in columns_to_keep_matches.items():\n",
    "    path = os.path.join(data_dir, filename)\n",
    "    df = pd.read_csv(path, usecols=columns)\n",
    "    dfs_matches.append(df)\n",
    "   "
   ]
  },
  {
   "cell_type": "code",
   "execution_count": 54,
   "id": "3c0561c9",
   "metadata": {},
   "outputs": [],
   "source": [
    "merged_df_matches = reduce(lambda left, right: pd.merge(left, right, on='eventId', how='inner'), dfs_matches)\n",
    "\n",
    "# Generate ordered column list automatically\n",
    "ordered_columns_m = []\n",
    "for cols in columns_to_keep_matches.values():\n",
    "    for col in cols:\n",
    "        if col not in ordered_columns_m:\n",
    "            ordered_columns_m.append(col)\n",
    "\n",
    "# Reorder columns safely\n",
    "merged_df_matches = merged_df_matches[[col for col in ordered_columns_m if col in merged_df_matches.columns]]\n",
    "merged_df_matches = merged_df_matches.dropna()"
   ]
  },
  {
   "cell_type": "code",
   "execution_count": 55,
   "id": "56e51073",
   "metadata": {},
   "outputs": [],
   "source": [
    "cols_to_int = ['totalShots','shotsOnTarget','saves','wonCorners']\n",
    "merged_df_matches[cols_to_int] = merged_df_matches[cols_to_int].astype(int)"
   ]
  },
  {
   "cell_type": "code",
   "execution_count": 56,
   "id": "20fbcbd5",
   "metadata": {},
   "outputs": [
    {
     "name": "stdout",
     "output_type": "stream",
     "text": [
      "Merged CSV saved to new_data\\database_matches.csv\n"
     ]
    }
   ],
   "source": [
    "output_path_matches = os.path.join(new_data_dir, 'database_matches.csv')\n",
    "\n",
    "os.makedirs(os.path.dirname(output_path_matches), exist_ok=True)\n",
    "\n",
    "merged_df_matches.to_csv(output_path_matches, index=False)\n",
    "\n",
    "print(f\"Merged CSV saved to {output_path_matches}\")\n"
   ]
  }
 ],
 "metadata": {
  "kernelspec": {
   "display_name": "Python 3",
   "language": "python",
   "name": "python3"
  },
  "language_info": {
   "codemirror_mode": {
    "name": "ipython",
    "version": 3
   },
   "file_extension": ".py",
   "mimetype": "text/x-python",
   "name": "python",
   "nbconvert_exporter": "python",
   "pygments_lexer": "ipython3",
   "version": "3.12.6"
  }
 },
 "nbformat": 4,
 "nbformat_minor": 5
}
