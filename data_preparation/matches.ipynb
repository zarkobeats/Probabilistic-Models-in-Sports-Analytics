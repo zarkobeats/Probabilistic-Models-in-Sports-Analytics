{
 "cells": [
  {
   "cell_type": "markdown",
   "id": "0",
   "metadata": {},
   "source": [
    "### Imports"
   ]
  },
  {
   "cell_type": "code",
   "execution_count": null,
   "id": "1",
   "metadata": {},
   "outputs": [],
   "source": [
    "import os\n",
    "import pandas as pd\n",
    "import numpy as np\n",
    "from functools import reduce\n"
   ]
  },
  {
   "cell_type": "code",
   "execution_count": null,
   "id": "2",
   "metadata": {},
   "outputs": [],
   "source": [
    "data_dir = \"../base_data\"\n",
    "new_data_dir = \"new_data\""
   ]
  },
  {
   "cell_type": "code",
   "execution_count": null,
   "id": "3",
   "metadata": {},
   "outputs": [],
   "source": [
    "columns_to_keep_matches = {\n",
    "    'fixtures.csv': ['eventId', 'homeTeamId', 'awayTeamId','leagueId', 'homeTeamWinner', 'awayTeamWinner', 'homeTeamScore', 'awayTeamScore', 'date'],\n",
    "}"
   ]
  },
  {
   "cell_type": "code",
   "execution_count": null,
   "id": "4",
   "metadata": {},
   "outputs": [],
   "source": [
    "dfs_matches = []\n",
    "\n",
    "for filename, columns in columns_to_keep_matches.items():\n",
    "    path = os.path.join(data_dir, filename)\n",
    "    df = pd.read_csv(path, usecols=columns)\n",
    "    dfs_matches.append(df)\n",
    "   "
   ]
  },
  {
   "cell_type": "code",
   "execution_count": null,
   "id": "5",
   "metadata": {},
   "outputs": [],
   "source": [
    "merged_df_matches = reduce(lambda left, right: pd.merge(left, right, on='eventId', how='inner'), dfs_matches)\n",
    "\n",
    "# Generate ordered column list automatically\n",
    "ordered_columns_m = []\n",
    "for cols in columns_to_keep_matches.values():\n",
    "    for col in cols:\n",
    "        if col not in ordered_columns_m:\n",
    "            ordered_columns_m.append(col)\n",
    "\n",
    "# Reorder columns safely\n",
    "merged_df_matches = merged_df_matches[[col for col in ordered_columns_m if col in merged_df_matches.columns]]\n",
    "merged_df_matches = merged_df_matches.dropna()"
   ]
  },
  {
   "cell_type": "code",
   "execution_count": null,
   "id": "6",
   "metadata": {},
   "outputs": [],
   "source": [
    "target_leagues = [720, 740, 700, 730]\n",
    "merged_df_matches = merged_df_matches[merged_df_matches['date'] > '2024-08-30']\n",
    "merged_df_matches = merged_df_matches[merged_df_matches['leagueId'].isin(target_leagues)]\n",
    "merged_df_matches['date'] = pd.to_datetime(merged_df_matches['date'])\n",
    "merged_df_matches['date'] = merged_df_matches['date'].dt.strftime('%H:%M, %d.%m.%y')\n",
    "merged_df_matches"
   ]
  },
  {
   "cell_type": "code",
   "execution_count": null,
   "id": "7",
   "metadata": {},
   "outputs": [],
   "source": [
    "match_id = 705018\n",
    "match_row = merged_df_matches[merged_df_matches['eventId'] == match_id].iloc[0]\n",
    "match_row"
   ]
  },
  {
   "cell_type": "code",
   "execution_count": null,
   "id": "8",
   "metadata": {},
   "outputs": [],
   "source": [
    "merged_df_matches = merged_df_matches.groupby(['eventId']).agg(\n",
    "homeTeamId=pd.NamedAgg(column=\"homeTeamId\", aggfunc=\"first\"),\n",
    "awayTeamId=pd.NamedAgg(column=\"awayTeamId\", aggfunc=\"first\"),\n",
    "leagueId=pd.NamedAgg(column=\"leagueId\", aggfunc=\"first\"),\n",
    "homeTeamScore=pd.NamedAgg(column=\"homeTeamScore\", aggfunc=\"first\"),\n",
    "awayTeamScore=pd.NamedAgg(column=\"awayTeamScore\", aggfunc=\"first\"),\n",
    "homeTeamWinner=pd.NamedAgg(column=\"homeTeamWinner\", aggfunc=\"first\"),\n",
    "awayTeamWinner=pd.NamedAgg(column=\"awayTeamWinner\", aggfunc=\"first\"),\n",
    "date=pd.NamedAgg(column=\"date\", aggfunc=\"first\"),\n",
    "\n",
    ").sort_values(by=['leagueId', 'date']).reset_index()  # ✅ Sort after aggregation.reset_index()"
   ]
  },
  {
   "cell_type": "code",
   "execution_count": null,
   "id": "9",
   "metadata": {},
   "outputs": [],
   "source": [
    "# Define custom league name mapping\n",
    "league_name_map = {\n",
    "    720: \"GER1\",\n",
    "    740: \"ESP1\",\n",
    "    700: \"ENG1\",\n",
    "    730: \"ITA1\"\n",
    "}\n",
    "\n",
    "# Replace leagueId with custom league names\n",
    "merged_df_matches['leagueId'] = merged_df_matches['leagueId'].map(league_name_map)"
   ]
  },
  {
   "cell_type": "code",
   "execution_count": null,
   "id": "10",
   "metadata": {},
   "outputs": [],
   "source": [
    "output_path_matches = os.path.join(new_data_dir, 'database_matches.csv')\n",
    "\n",
    "os.makedirs(os.path.dirname(output_path_matches), exist_ok=True)\n",
    "\n",
    "merged_df_matches.to_csv(output_path_matches, index=False)\n",
    "\n",
    "print(f\"Merged CSV saved to {output_path_matches}\")\n"
   ]
  }
 ],
 "metadata": {
  "kernelspec": {
   "display_name": "Python 3",
   "language": "python",
   "name": "python3"
  },
  "language_info": {
   "codemirror_mode": {
    "name": "ipython",
    "version": 3
   },
   "file_extension": ".py",
   "mimetype": "text/x-python",
   "name": "python",
   "nbconvert_exporter": "python",
   "pygments_lexer": "ipython3",
   "version": "3.12.6"
  }
 },
 "nbformat": 4,
 "nbformat_minor": 5
}
