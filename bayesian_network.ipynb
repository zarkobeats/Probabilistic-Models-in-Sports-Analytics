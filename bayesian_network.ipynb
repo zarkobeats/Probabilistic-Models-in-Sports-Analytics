{
 "cells": [
  {
   "cell_type": "markdown",
   "id": "0",
   "metadata": {},
   "source": [
    "**Imports**"
   ]
  },
  {
   "cell_type": "code",
   "execution_count": null,
   "id": "1",
   "metadata": {},
   "outputs": [],
   "source": [
    "import pandas as pd\n",
    "from pgmpy.models import DiscreteBayesianNetwork\n",
    "from pgmpy.estimators import MaximumLikelihoodEstimator\n",
    "from pgmpy.inference import VariableElimination\n",
    "import matplotlib.pyplot as plt\n",
    "import networkx as nx\n",
    "\n",
    "import logging\n",
    "logging.getLogger('pgmpy').setLevel(logging.WARNING)\n"
   ]
  },
  {
   "cell_type": "markdown",
   "id": "2",
   "metadata": {},
   "source": [
    "**DAG Visualization of the relations in the dataframe**"
   ]
  },
  {
   "cell_type": "code",
   "execution_count": null,
   "id": "3",
   "metadata": {},
   "outputs": [],
   "source": [
    "# Create the graph\n",
    "G = nx.DiGraph()\n",
    "\n",
    "# Define the edges\n",
    "edges = [\n",
    "    (\"home_Form\", \"home_Strength\"),\n",
    "    (\"home_Rank\", \"home_Strength\"),\n",
    "    (\"home_Goal_difference\", \"home_Strength\"),\n",
    "    \n",
    "    (\"away_Form\", \"away_Strength\"),\n",
    "    (\"away_Rank\", \"away_Strength\"),\n",
    "    (\"away_Goal_difference\", \"away_Strength\"),\n",
    "\n",
    "    (\"home_Strength\", \"Result\"),\n",
    "    (\"away_Strength\", \"Result\")\n",
    "]\n",
    "\n",
    "G.add_edges_from(edges)\n",
    "\n",
    "\n",
    "\n",
    "# Draw the graph\n",
    "plt.figure(figsize=(12, 8))\n",
    "nx.draw(\n",
    "    G, with_labels=True, node_size=3000, node_color='skyblue',\n",
    "    arrowsize=20, font_size=11, font_weight='bold', edge_color='gray'\n",
    ")\n",
    "plt.title(\"Bayesian network DAG\", fontsize=16)\n",
    "plt.axis(\"off\")\n",
    "plt.tight_layout()\n",
    "plt.show()\n"
   ]
  },
  {
   "cell_type": "code",
   "execution_count": null,
   "id": "4",
   "metadata": {},
   "outputs": [],
   "source": [
    "matches = pd.read_csv(\"data_preparation/new_data/merged_matches.csv\")\n",
    "matches['date'] = pd.to_datetime(matches['date'])\n",
    "matches"
   ]
  },
  {
   "cell_type": "markdown",
   "id": "5",
   "metadata": {},
   "source": [
    "**Defining match date and teams, that will be predicted**"
   ]
  },
  {
   "cell_type": "code",
   "execution_count": null,
   "id": "6",
   "metadata": {},
   "outputs": [],
   "source": [
    "Home_Team = \"FC Augsburg\"\n",
    "Away_Team = \"1. FC Union Berlin\"\n",
    "\n",
    "date = \"2025-05-15\""
   ]
  },
  {
   "cell_type": "markdown",
   "id": "7",
   "metadata": {},
   "source": [
    "**Train and test and then fitting the model, using MLE**"
   ]
  },
  {
   "cell_type": "code",
   "execution_count": null,
   "id": "8",
   "metadata": {},
   "outputs": [],
   "source": [
    "# Filter matches up to and including 15.05.2025 for training\n",
    "cutoff_date = pd.to_datetime(date)\n",
    "train_df = matches[matches['date'] <= cutoff_date]\n",
    "\n",
    "# Extract the Bayern Munich vs Hoffenheim match on 17.05.2025\n",
    "test_date = pd.to_datetime(\"2025-05-17\")\n",
    "test_match = matches[\n",
    "    (matches['date'].dt.date == test_date.date()) &\n",
    "    ((matches['home_Team'] == Home_Team) & (matches['away_Team'] == Away_Team))\n",
    "]\n",
    "\n",
    "if test_match.empty:\n",
    "    print(\"Test match not found.\")\n",
    "    exit()\n",
    "\n",
    "# Select key features (use binned columns)\n",
    "features = ['home_Strength', 'home_Form', 'away_Form', 'away_Strength', 'Result',\n",
    "            'home_GD_binned', 'away_GD_binned', 'home_Rank_binned', 'away_Rank_binned']\n",
    "train_data = train_df[features].copy()\n",
    "\n",
    "\n",
    "\n",
    "# Define Bayesian Network structure\n",
    "model = DiscreteBayesianNetwork([\n",
    "    (\"home_Form\", \"home_Strength\"),\n",
    "    (\"home_Rank_binned\", \"home_Strength\"),\n",
    "    (\"home_GD_binned\", \"home_Strength\"),\n",
    "\n",
    "    (\"away_Form\", \"away_Strength\"),\n",
    "    (\"away_Rank_binned\", \"away_Strength\"),\n",
    "    (\"away_GD_binned\", \"away_Strength\"),\n",
    "\n",
    "    (\"home_Strength\", \"Result\"),\n",
    "    (\"away_Strength\", \"Result\")\n",
    "])\n",
    "\n",
    "# Fit the model using MLE\n",
    "model.fit(train_data, estimator=MaximumLikelihoodEstimator)\n",
    "\n",
    "# Create inference object\n",
    "inference = VariableElimination(model)\n",
    "\n",
    "# Extract the test instance\n",
    "test_instance = test_match.iloc[0]\n",
    "evidence = {\n",
    "    'home_Form': test_instance['home_Form'],\n",
    "    'away_Form': test_instance['away_Form'],\n",
    "    'home_Strength': test_instance['home_Strength'],\n",
    "    'away_Strength': test_instance['away_Strength'],\n",
    "}\n",
    "\n",
    "# Query the model\n",
    "result_prediction = inference.query(variables=['Result'], evidence=evidence)\n",
    "# Extract and sort the probabilities\n",
    "# Extract the values and states from the result\n",
    "# Original states and values\n",
    "values = result_prediction.values # type: ignore\n",
    "states = result_prediction.state_names['Result'] # type: ignore\n",
    "\n",
    "# Custom labels\n",
    "label_map = {\n",
    "    'HomeWin': Home_Team,\n",
    "    'Draw': 'Draw',\n",
    "    'AwayWin': Away_Team,\n",
    "}\n",
    "\n",
    "# Zip and rename\n",
    "results = [(label_map[state], prob) for state, prob in zip(states, values)] # type: ignore\n",
    "\n",
    "# Desired display order using new labels\n",
    "desired_order = [Home_Team, 'Draw', Away_Team]\n",
    "ordered_results = sorted(results, key=lambda x: desired_order.index(x[0]))\n",
    "\n",
    "col1_width = 20\n",
    "col2_width = 18\n",
    "\n",
    "# Print header\n",
    "print(f\"{'Outcome':<{col1_width}} {'Probability in %':>{col2_width}}\")\n",
    "print(\"-\" * (col1_width + col2_width))\n",
    "\n",
    "# Print rows\n",
    "for outcome, prob in ordered_results:\n",
    "    print(f\"{outcome:<{col1_width}} {prob * 100:>{col2_width}.2f}\")"
   ]
  }
 ],
 "metadata": {
  "kernelspec": {
   "display_name": "Python 3",
   "language": "python",
   "name": "python3"
  },
  "language_info": {
   "codemirror_mode": {
    "name": "ipython",
    "version": 3
   },
   "file_extension": ".py",
   "mimetype": "text/x-python",
   "name": "python",
   "nbconvert_exporter": "python",
   "pygments_lexer": "ipython3",
   "version": "3.12.6"
  }
 },
 "nbformat": 4,
 "nbformat_minor": 5
}
