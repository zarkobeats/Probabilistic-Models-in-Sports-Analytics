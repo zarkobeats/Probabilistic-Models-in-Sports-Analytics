{
 "cells": [
  {
   "cell_type": "code",
   "execution_count": null,
   "id": "0",
   "metadata": {},
   "outputs": [],
   "source": [
    "import pandas as pd\n",
    "from sklearn.preprocessing import KBinsDiscretizer\n",
    "from pgmpy.models import DiscreteBayesianNetwork\n",
    "from pgmpy.estimators import MaximumLikelihoodEstimator\n",
    "from pgmpy.inference import VariableElimination\n",
    "from sklearn.model_selection import train_test_split"
   ]
  },
  {
   "cell_type": "code",
   "execution_count": null,
   "id": "1",
   "metadata": {},
   "outputs": [],
   "source": [
    "data = pd.read_csv(\"data_preparation/new_data/merged_matches.csv\")\n",
    "\n",
    "\n",
    "def get_result(row):\n",
    "    if row['homeTeamWinner'] == True:\n",
    "        return 'HomeWin'\n",
    "    elif row['awayTeamWinner'] == True:\n",
    "        return 'AwayWin'\n",
    "    elif row['homeTeamWinner'] == False and row['awayTeamWinner'] == False:\n",
    "        return 'Draw'\n",
    "    else:\n",
    "        return 'Unknown'\n",
    "\n",
    "data['Result'] = data.apply(get_result, axis=1)\n"
   ]
  },
  {
   "cell_type": "code",
   "execution_count": null,
   "id": "2",
   "metadata": {},
   "outputs": [],
   "source": [
    "features = [\"home_Rank\", \"home_Wins\", \"home_Ties\", \"home_Losses\", \"home_Points\", \n",
    "            \"home_Goal_for\", \"home_Goal_against\", \"home_Goal_difference\",\n",
    "            \n",
    "            \"away_Rank\", \"away_Wins\", \"away_Ties\", \"away_Losses\", \"away_Points\",\n",
    "              \"away_Goal_for\", \"away_Goal_against\", \"away_Goal_difference\",\n",
    "            ]\n",
    "\n",
    "# Discretize numerical features into 3 bins\n",
    "discretizer = KBinsDiscretizer(n_bins=3, encode='ordinal', strategy='uniform')\n",
    "data[features] = discretizer.fit_transform(data[features])\n",
    "data[features] = data[features].astype(int).astype(str)  # Convert to string for pgmpy\n"
   ]
  },
  {
   "cell_type": "code",
   "execution_count": null,
   "id": "3",
   "metadata": {},
   "outputs": [],
   "source": [
    "# Determine split index\n",
    "split_index = int(0.8 * len(data))\n",
    "\n",
    "# Take the first 80% as training, the rest as testing\n",
    "train_data = data.iloc[:split_index]\n",
    "test_data = data.iloc[split_index:]\n",
    "\n",
    "# Create the Bayesian Network structure\n",
    "edges = [(feature, 'Result') for feature in features]\n",
    "\n",
    "model = DiscreteBayesianNetwork(edges)\n",
    "model.fit(train_data[features + ['Result']], estimator=MaximumLikelihoodEstimator)\n",
    "inference = VariableElimination(model)"
   ]
  },
  {
   "cell_type": "code",
   "execution_count": null,
   "id": "4",
   "metadata": {},
   "outputs": [],
   "source": [
    "# Select the match row by eventId\n",
    "# match_id = 711715\n",
    "match_id = 711715\n",
    "\n",
    "match_row = data[data['eventId'] == match_id].iloc[0]\n",
    "\n",
    "# Build evidence dictionary with features (converted to strings)\n",
    "evidence = {feature: str(match_row[feature]) for feature in features}\n",
    "evidence\n"
   ]
  },
  {
   "cell_type": "code",
   "execution_count": null,
   "id": "5",
   "metadata": {},
   "outputs": [],
   "source": [
    "# Perform inference\n",
    "query_result = inference.query(variables=['Result'], evidence=evidence)\n",
    "print(query_result)"
   ]
  },
  {
   "cell_type": "code",
   "execution_count": null,
   "id": "6",
   "metadata": {},
   "outputs": [],
   "source": [
    "# 1. Extract the CPT object\n",
    "cpd = model.get_cpds('Result')\n",
    "\n",
    "# 2. Identify child and parent variables\n",
    "child = cpd.variable\n",
    "parents = cpd.variables[1:]    # first element is the child\n",
    "\n",
    "# 3. Gather state names\n",
    "state_names = cpd.state_names  # dict mapping each var → list of its states\n",
    "child_states = state_names[child]\n",
    "parent_states = [state_names[p] for p in parents]\n",
    "\n",
    "# 4. Build a MultiIndex of all parent‐configurations\n",
    "index = pd.MultiIndex.from_product(parent_states, names=parents)\n",
    "\n",
    "# 5. Get the raw CPT values and transpose so rows match parent‐configs\n",
    "#    cpd.get_values() returns an array of shape (child_card, prod(evidence_card))\n",
    "values = cpd.get_values().T\n",
    "\n",
    "# 6. Build the DataFrame\n",
    "df_cpt = pd.DataFrame(\n",
    "    values,\n",
    "    index=index,\n",
    "    columns=[f\"{child}={s}\" for s in child_states]\n",
    ")\n",
    "\n",
    "# 7. Display the first few rows\n",
    "print(\"First 10 rows of the CPT for 'Result':\")\n",
    "print(df_cpt.head(10))"
   ]
  }
 ],
 "metadata": {
  "kernelspec": {
   "display_name": "venv",
   "language": "python",
   "name": "python3"
  },
  "language_info": {
   "codemirror_mode": {
    "name": "ipython",
    "version": 3
   },
   "file_extension": ".py",
   "mimetype": "text/x-python",
   "name": "python",
   "nbconvert_exporter": "python",
   "pygments_lexer": "ipython3",
   "version": "3.12.6"
  }
 },
 "nbformat": 4,
 "nbformat_minor": 5
}
