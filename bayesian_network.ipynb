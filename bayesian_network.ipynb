{
 "cells": [
  {
   "cell_type": "code",
   "execution_count": null,
   "id": "0",
   "metadata": {},
   "outputs": [],
   "source": [
    "import pandas as pd\n",
    "from sklearn.preprocessing import KBinsDiscretizer\n",
    "from pgmpy.models import DiscreteBayesianNetwork\n",
    "from pgmpy.estimators import MaximumLikelihoodEstimator\n",
    "from pgmpy.inference import VariableElimination"
   ]
  },
  {
   "cell_type": "code",
   "execution_count": null,
   "id": "1",
   "metadata": {},
   "outputs": [],
   "source": [
    "data = pd.read_csv(\"data_preparation/new_data/merged_matches.csv\")\n",
    "\n",
    "\n",
    "def get_result(row):\n",
    "    if row['homeTeamWinner'] == True:\n",
    "        return 'HomeWin'\n",
    "    elif row['awayTeamWinner'] == True:\n",
    "        return 'AwayWin'\n",
    "    elif row['homeTeamWinner'] == False and row['awayTeamWinner'] == False:\n",
    "        return 'Draw'\n",
    "    else:\n",
    "        return 'Unknown'\n",
    "\n",
    "data['Result'] = data.apply(get_result, axis=1)\n"
   ]
  },
  {
   "cell_type": "code",
   "execution_count": null,
   "id": "2",
   "metadata": {},
   "outputs": [],
   "source": [
    "features = [\"home_Rank\", \"home_Wins\", \"home_Ties\", \"home_Losses\", \"home_Points\", \n",
    "            \"home_Goal_for\", \"home_Goal_against\", \"home_Goal_difference\",\n",
    "            \n",
    "            \"away_Rank\", \"away_Wins\", \"away_Ties\", \"away_Losses\", \"away_Points\",\n",
    "              \"away_Goal_for\", \"away_Goal_against\", \"away_Goal_difference\",]\n",
    "\n",
    "# Discretize numerical features into 3 bins\n",
    "discretizer = KBinsDiscretizer(n_bins=3, encode='ordinal', strategy='uniform')\n",
    "data[features] = discretizer.fit_transform(data[features])\n",
    "data[features] = data[features].astype(int).astype(str)  # Convert to string for pgmpy\n"
   ]
  },
  {
   "cell_type": "code",
   "execution_count": null,
   "id": "3",
   "metadata": {},
   "outputs": [],
   "source": [
    "# Create the Bayesian Network structure\n",
    "edges = [(feature, 'Result') for feature in features]\n",
    "\n",
    "model = DiscreteBayesianNetwork(edges)\n",
    "model.fit(data[features + ['Result']], estimator=MaximumLikelihoodEstimator)\n",
    "inference = VariableElimination(model)"
   ]
  },
  {
   "cell_type": "code",
   "execution_count": null,
   "id": "4",
   "metadata": {},
   "outputs": [],
   "source": [
    "# Select the match row by eventId\n",
    "match_id = 705018\n",
    "match_row = data[data['eventId'] == match_id].iloc[0]\n",
    "\n",
    "# Build evidence dictionary with features (converted to strings)\n",
    "evidence = {feature: str(match_row[feature]) for feature in features}\n",
    "\n",
    "# Perform inference\n",
    "query_result = inference.query(variables=['Result'], evidence=evidence)\n",
    "print(query_result)\n"
   ]
  }
 ],
 "metadata": {
  "kernelspec": {
   "display_name": "venv",
   "language": "python",
   "name": "python3"
  },
  "language_info": {
   "codemirror_mode": {
    "name": "ipython",
    "version": 3
   },
   "file_extension": ".py",
   "mimetype": "text/x-python",
   "name": "python",
   "nbconvert_exporter": "python",
   "pygments_lexer": "ipython3",
   "version": "3.12.6"
  }
 },
 "nbformat": 4,
 "nbformat_minor": 5
}
