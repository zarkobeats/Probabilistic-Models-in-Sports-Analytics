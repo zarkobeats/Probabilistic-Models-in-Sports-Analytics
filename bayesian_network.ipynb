{
 "cells": [
  {
   "cell_type": "code",
   "execution_count": null,
   "id": "0",
   "metadata": {},
   "outputs": [],
   "source": [
    "import pandas as pd\n",
    "from sklearn.preprocessing import KBinsDiscretizer\n",
    "from pgmpy.models import DiscreteBayesianNetwork\n",
    "from pgmpy.estimators import MaximumLikelihoodEstimator\n",
    "from pgmpy.inference import VariableElimination"
   ]
  },
  {
   "cell_type": "code",
   "execution_count": null,
   "id": "1",
   "metadata": {},
   "outputs": [],
   "source": [
    "data = pd.read_csv(\"data_preparation/new_data/merged_matches.csv\")"
   ]
  },
  {
   "cell_type": "code",
   "execution_count": null,
   "id": "2",
   "metadata": {},
   "outputs": [],
   "source": [
    "features = [\"home_Rank\", \"home_Goal_difference\", 'home_avg_points_per_match',\n",
    "            \"away_Rank\", \"away_Goal_difference\", 'away_avg_points_per_match',\n",
    "            ]\n",
    "\n",
    "\n",
    "# Discretize numerical features into 3 bins\n",
    "discretizer = KBinsDiscretizer(n_bins=3, encode='ordinal', strategy='uniform')\n",
    "data[features] = discretizer.fit_transform(data[features])\n",
    "data[features] = data[features].astype(int).astype(str)  # Convert to string for pgmpy\n"
   ]
  },
  {
   "cell_type": "code",
   "execution_count": null,
   "id": "3",
   "metadata": {},
   "outputs": [],
   "source": [
    "data['date'] = pd.to_datetime(data['date'])\n",
    "train_data = data[data['date'] <= '2025-05-15']\n",
    "future_matches = data[data['date'] > '2025-05-15']\n",
    "\n",
    "# Create the Bayesian Network structure\n",
    "edges = [(feature, 'Result') for feature in features]\n",
    "\n",
    "model = DiscreteBayesianNetwork(edges)\n",
    "model.fit(train_data[features + ['Result']], estimator=MaximumLikelihoodEstimator)\n",
    "inference = VariableElimination(model)"
   ]
  },
  {
   "cell_type": "code",
   "execution_count": null,
   "id": "4",
   "metadata": {},
   "outputs": [],
   "source": [
    "evidence = {\n",
    "    \"home_Rank\": 2,\n",
    "    \"home_Goal_difference\": 35,\n",
    "    \"home_avg_points_per_match\": 2.15,\n",
    "\n",
    "    \"away_Rank\": 9,\n",
    "    \"away_Goal_difference\": -2,\n",
    "    \"away_avg_points_per_match\": 1.38,\n",
    "}\n",
    "\n",
    "predictions = []\n",
    "for _, row in future_matches.iterrows():\n",
    "    # evidence = {feature: str(row[feature]) for feature in features}\n",
    "    result = inference.query(variables=[\"Result\"], evidence=evidence)\n",
    "    predictions.append({\n",
    "        \"eventId\": row[\"eventId\"],\n",
    "        \"HomeTeam\": row[\"home_Team\"],\n",
    "        \"AwayTeam\": row[\"away_Team\"],\n",
    "        \"Prediction\": result\n",
    "    })\n"
   ]
  },
  {
   "cell_type": "code",
   "execution_count": null,
   "id": "5",
   "metadata": {},
   "outputs": [],
   "source": [
    "result = inference.query(variables=[\"Result\"], evidence=evidence)\n",
    "print(result)\n"
   ]
  },
  {
   "cell_type": "code",
   "execution_count": null,
   "id": "6",
   "metadata": {},
   "outputs": [],
   "source": [
    "# 1. Extract the CPT object\n",
    "cpd = model.get_cpds('Result')\n",
    "\n",
    "# 2. Identify child and parent variables\n",
    "child = cpd.variable\n",
    "parents = cpd.variables[1:]    # first element is the child\n",
    "\n",
    "# 3. Gather state names\n",
    "state_names = cpd.state_names  # dict mapping each var → list of its states\n",
    "child_states = state_names[child]\n",
    "parent_states = [state_names[p] for p in parents]\n",
    "\n",
    "# 4. Build a MultiIndex of all parent‐configurations\n",
    "index = pd.MultiIndex.from_product(parent_states, names=parents)\n",
    "\n",
    "# 5. Get the raw CPT values and transpose so rows match parent‐configs\n",
    "#    cpd.get_values() returns an array of shape (child_card, prod(evidence_card))\n",
    "values = cpd.get_values().T\n",
    "\n",
    "# 6. Build the DataFrame\n",
    "df_cpt = pd.DataFrame(\n",
    "    values,\n",
    "    index=index,\n",
    "    columns=[f\"{child}={s}\" for s in child_states]\n",
    ")\n",
    "\n",
    "# 7. Display the first few rows\n",
    "print(\"First 10 rows of the CPT for 'Result':\")\n",
    "print(df_cpt.head(10))"
   ]
  }
 ],
 "metadata": {
  "kernelspec": {
   "display_name": "Python 3",
   "language": "python",
   "name": "python3"
  },
  "language_info": {
   "codemirror_mode": {
    "name": "ipython",
    "version": 3
   },
   "file_extension": ".py",
   "mimetype": "text/x-python",
   "name": "python",
   "nbconvert_exporter": "python",
   "pygments_lexer": "ipython3",
   "version": "3.12.6"
  }
 },
 "nbformat": 4,
 "nbformat_minor": 5
}
